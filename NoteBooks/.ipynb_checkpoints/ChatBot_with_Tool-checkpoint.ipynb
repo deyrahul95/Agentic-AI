{
 "cells": [
  {
   "cell_type": "markdown",
   "id": "e94f3b74-cdf4-4f45-89dc-a2f8ced14f5d",
   "metadata": {},
   "source": [
    "# Installation"
   ]
  },
  {
   "cell_type": "code",
   "execution_count": 1,
   "id": "90cd56c3-0cbe-4a46-b724-9b396965658b",
   "metadata": {},
   "outputs": [
    {
     "name": "stdout",
     "output_type": "stream",
     "text": [
      "\u001b[2mResolved \u001b[1m138 packages\u001b[0m \u001b[2min 0.69ms\u001b[0m\u001b[0m\n",
      "\u001b[2mAudited \u001b[1m133 packages\u001b[0m \u001b[2min 0.05ms\u001b[0m\u001b[0m\n"
     ]
    }
   ],
   "source": [
    "!uv add langgraph langchain langsmith python-dotenv langchain_ollama langchain_community langchain_tavily"
   ]
  },
  {
   "cell_type": "code",
   "execution_count": 2,
   "id": "4c6d256b-d84b-4f0a-9784-a19eee6104ac",
   "metadata": {},
   "outputs": [
    {
     "data": {
      "text/plain": [
       "True"
      ]
     },
     "execution_count": 2,
     "metadata": {},
     "output_type": "execute_result"
    }
   ],
   "source": [
    "## load env variables\n",
    "from dotenv import load_dotenv\n",
    "\n",
    "load_dotenv()"
   ]
  },
  {
   "cell_type": "markdown",
   "id": "d9bd4fa0-fdd0-4d12-b6dc-dc882151b37f",
   "metadata": {},
   "source": [
    "### Tavily Tool"
   ]
  },
  {
   "cell_type": "code",
   "execution_count": 3,
   "id": "5fda9bc9-8a5d-483b-8dbf-fd846a74f68a",
   "metadata": {},
   "outputs": [],
   "source": [
    "## Create tavily tool\n",
    "from langchain_tavily import TavilySearch\n",
    "\n",
    "search_tool=TavilySearch(max_results=2)"
   ]
  },
  {
   "cell_type": "markdown",
   "id": "5eedd6c6-6596-4ff9-b84d-f9cbca5a4ae1",
   "metadata": {},
   "source": [
    "### Custom Multiply Tool"
   ]
  },
  {
   "cell_type": "code",
   "execution_count": 4,
   "id": "de0abfce-fba8-44fd-b010-1463bad6d8d1",
   "metadata": {},
   "outputs": [],
   "source": [
    "## custom function\n",
    "def multiply(a:int,b:int)->int:\n",
    "    \"\"\"Multiply a and b\n",
    "\n",
    "    Args:\n",
    "        a (int): first int if it is in string convert to int\n",
    "        b (int): second int if it is in string convert to int\n",
    "\n",
    "    Returns:\n",
    "        int: result of the multiplication\n",
    "    \"\"\"\n",
    "    return a * b"
   ]
  },
  {
   "cell_type": "markdown",
   "id": "1f551488-1980-4d4f-b50e-11c38138cdc6",
   "metadata": {},
   "source": [
    "### Create LLM using Ollama"
   ]
  },
  {
   "cell_type": "code",
   "execution_count": 19,
   "id": "24bd561f-2ea2-4a0b-9ed4-7777f68ace0a",
   "metadata": {},
   "outputs": [],
   "source": [
    "from langchain_ollama import ChatOllama\n",
    "\n",
    "llm = ChatOllama(model=\"qwen3:0.6b\", temperature=0)"
   ]
  },
  {
   "cell_type": "code",
   "execution_count": 20,
   "id": "fcaedd86-084d-4f9b-95b5-c864b8cca56c",
   "metadata": {
    "scrolled": true
   },
   "outputs": [],
   "source": [
    "## add tools in llm \n",
    "tools=[search_tool, multiply]\n",
    "llm_with_tools=llm.bind_tools(tools)"
   ]
  },
  {
   "cell_type": "markdown",
   "id": "1e32cae3-d3f8-4004-8196-dd91b219908c",
   "metadata": {},
   "source": [
    "### Creating the Chatbot"
   ]
  },
  {
   "cell_type": "code",
   "execution_count": 21,
   "id": "9199a67c-1d37-4a3b-93a7-791e7c5530db",
   "metadata": {},
   "outputs": [],
   "source": [
    "from typing import Annotated\n",
    "from typing_extensions import TypedDict\n",
    "from langgraph.graph.message import add_messages\n",
    "\n",
    "## State \n",
    "class State(TypedDict):\n",
    "    messages:Annotated[list, add_messages]\n",
    "\n",
    "## Node functionality\n",
    "def chatbot(state:State):\n",
    "    return {\"messages\": [llm.invoke(state[\"messages\"])]}"
   ]
  },
  {
   "cell_type": "code",
   "execution_count": 22,
   "id": "b6eb5dca-1d58-4d3e-857a-183786ae8a4c",
   "metadata": {},
   "outputs": [],
   "source": [
    "from langgraph.graph import StateGraph, START, END\n",
    "from langgraph.prebuilt import ToolNode\n",
    "from langgraph.prebuilt import tools_condition\n",
    "\n",
    "## Node definition\n",
    "def tool_calling_llm(state:State):\n",
    "    return {\"messages\":[llm_with_tools.invoke(state[\"messages\"])]}\n",
    "\n",
    "## Graph\n",
    "builder=StateGraph(State)\n",
    "builder.add_node(\"tool_calling_llm\", tool_calling_llm)\n",
    "builder.add_node(\"tools\",ToolNode(tools))\n",
    "\n",
    "## Add Edges\n",
    "builder.add_edge(START, \"tool_calling_llm\")\n",
    "builder.add_conditional_edges(\"tool_calling_llm\",tools_condition)\n",
    "builder.add_edge(\"tools\",END)\n",
    "\n",
    "## Compile the graph\n",
    "graph = builder.compile()"
   ]
  },
  {
   "cell_type": "code",
   "execution_count": 23,
   "id": "39055f91-d4f4-4db5-b377-053f6c8db8b7",
   "metadata": {},
   "outputs": [
    {
     "data": {
      "image/png": "[encoded data removed]",
      "text/plain": [
       "<langgraph.graph.state.CompiledStateGraph object at 0x74aea1e361b0>"
      ]
     },
     "execution_count": 23,
     "metadata": {},
     "output_type": "execute_result"
    }
   ],
   "source": [
    "graph"
   ]
  },
  {
   "cell_type": "markdown",
   "id": "b24132a6-d9a8-48e8-a516-2fb2f59454fc",
   "metadata": {},
   "source": [
    "### Using this Graph"
   ]
  },
  {
   "cell_type": "code",
   "execution_count": 16,
   "id": "3ba854e1-f379-42dc-933e-6e00c02cb099",
   "metadata": {},
   "outputs": [
    {
     "name": "stdout",
     "output_type": "stream",
     "text": [
      "================================\u001b[1m Human Message \u001b[0m=================================\n",
      "\n",
      "What is the recent AI news for today?\n",
      "==================================\u001b[1m Ai Message \u001b[0m==================================\n",
      "Tool Calls:\n",
      "  tavily_search (21d1001c-3dca-4b2f-8ad5-03a50031706b)\n",
      " Call ID: 21d1001c-3dca-4b2f-8ad5-03a50031706b\n",
      "  Args:\n",
      "    include_images: False\n",
      "    query: recent AI news\n",
      "    search_depth: advanced\n",
      "    time_range: day\n",
      "    topic: news\n",
      "=================================\u001b[1m Tool Message \u001b[0m=================================\n",
      "Name: tavily_search\n",
      "\n",
      "{\"query\": \"recent AI news\", \"follow_up_questions\": null, \"answer\": null, \"images\": [], \"results\": [{\"url\": \"https://www.infosecurity-magazine.com/opinions/ai-priorities-cybersecurity-leaders/\", \"title\": \"Leading at the Speed of Algorithms: Immediate AI Priorities for Cybers - Infosecurity Magazine\", \"score\": 0.7467494, \"published_date\": \"Mon, 23 Jun 2025 11:00:00 GMT\", \"content\": \"### Researchers Warn of 'Living off AI' Attacks After PoC Exploits Atlassian's AI Agent Protocol\\n\\nNews19 Jun 2025\\n\\n1\\n\\n### Russia Expert Falls Prey to Elite Hackers Disguised as US Officials\\n\\nNews20 Jun 2025\\n\\n2\\n\\n### NIST Publishes New Zero Trust Implementation Guidance\\n\\nNews12 Jun 2025\\n\\n3\\n\\n### Ransomware Group Qilin Offers Legal Counsel to Affiliates\\n\\nNews18 Jun 2025\\n\\n4\\n\\n### Reimagining the SOC: From Reactive to Resilient\\n\\nWebinar17 Jun 2025\\n\\n5 [...] Blog1 Feb 2023   \\n3.   ### The Ursala of AI Wants Your Voice\\n\\nOpinion25 Apr 2025   \\n4.   ### How to Navigate the Risks of Generative AI\\n\\nOpinion19 Apr 2024   \\n5.   ### The People Hacker: AI a Game-Changer in Social Engineering Attacks\\n\\nNews2 Nov 2023   \\n\\nWhat’s hot on Infosecurity Magazine?\\n------------------------------------\\n\\n   Read\\n   Shared\\n   Watched\\n   Editor's Choice\\n\\n### Researchers Warn of 'Living off AI' Attacks After PoC Exploits Atlassian's AI Agent Protocol\\n\\nNews19 Jun 2025\\n\\n1 [...] ### Hacklink Marketplace Fuels Surge in Covert SEO Poisoning Attacks\\n\\nNews17 Jun 2025\\n\\n2\\n\\n### M&S and Co-op Hacks Classified as Single Cyber Event\\n\\nNews20 Jun 2025\\n\\n3\\n\\n### GodFather Malware Upgraded to Hijack Legitimate Mobile Apps\\n\\nNews18 Jun 2025\\n\\n4\\n\\n### Russia Expert Falls Prey to Elite Hackers Disguised as US Officials\\n\\nNews20 Jun 2025\\n\\n5\\n\\n### AI Now Generates Majority of Spam and Malicious Emails\\n\\nNews18 Jun 2025\\n\\n6\", \"raw_content\": null}, {\"url\": \"http://www.sciencedaily.com/releases/2025/06/250622225921.htm\", \"title\": \"Affordances in the brain: The human superpower AI hasn’t mastered - ScienceDaily\", \"score\": 0.7334523, \"published_date\": \"Mon, 23 Jun 2025 08:56:12 GMT\", \"content\": \"Date:June 23, 2025 Source:Universiteit van Amsterdam Summary:Scientists at the University of Amsterdam discovered that our brains automatically understand how we can move through different environments—whether it's swimming in a lake or walking a path—without conscious thought. These \\\"action possibilities,\\\" or affordances, light up specific brain regions independently of what’s visually present. In contrast, AI models like ChatGPT still struggle with these intuitive judgments, missing the [...] Universiteit van Amsterdam. \\\"Affordances in the brain: The human superpower AI hasn’t mastered.\\\" ScienceDaily. ScienceDaily, 23 June 2025. <www.sciencedaily.com/releases/2025/06/250622225921.htm>.\\n\\nUniversiteit van Amsterdam. (2025, June 23). Affordances in the brain: The human superpower AI hasn’t mastered. _ScienceDaily_. Retrieved June 23, 2025 from www.sciencedaily.com/releases/2025/06/250622225921.htm [...] Apr. 20, 2023 — ChatGPT faced off against students on accounting assessments. Students scored an overall average of 76.7%, compared to ChatGPT's score of 47.4%. On a 11.3% of questions, ChatGPT scored higher ... \\n\\nNew Chip Design to Provide Greatest Precision in Memory to Date\\n\\nMar. 30, 2023 — Everyone is talking about the newest AI and the power of neural networks, forgetting that software is limited by the hardware on which it runs. But it is hardware become 'the bottleneck.' ...\", \"raw_content\": null}], \"response_time\": 1.7}\n"
     ]
    }
   ],
   "source": [
    "response=graph.invoke({\"messages\":\"What is the recent AI news for today?\"})\n",
    "\n",
    "for m in response[\"messages\"]:\n",
    "    m.pretty_print()"
   ]
  },
  {
   "cell_type": "code",
   "execution_count": 24,
   "id": "f38f3272-4601-4a39-b183-07dbe48156b7",
   "metadata": {},
   "outputs": [
    {
     "name": "stdout",
     "output_type": "stream",
     "text": [
      "================================\u001b[1m Human Message \u001b[0m=================================\n",
      "\n",
      "What is 25 multiply by 5?\n",
      "==================================\u001b[1m Ai Message \u001b[0m==================================\n",
      "Tool Calls:\n",
      "  multiply (f1144773-d9a8-46c4-b87a-5e37b4d45d9b)\n",
      " Call ID: f1144773-d9a8-46c4-b87a-5e37b4d45d9b\n",
      "  Args:\n",
      "    a: 25\n",
      "    b: 5\n",
      "=================================\u001b[1m Tool Message \u001b[0m=================================\n",
      "Name: multiply\n",
      "\n",
      "125\n"
     ]
    }
   ],
   "source": [
    "response=graph.invoke({\"messages\":\"What is 25 multiply by 5?\"})\n",
    "\n",
    "for m in response[\"messages\"]:\n",
    "    m.pretty_print()"
   ]
  },
  {
   "cell_type": "code",
   "execution_count": 25,
   "id": "836cfdac-497e-45d3-86d8-748a906f8cbb",
   "metadata": {},
   "outputs": [
    {
     "name": "stdout",
     "output_type": "stream",
     "text": [
      "================================\u001b[1m Human Message \u001b[0m=================================\n",
      "\n",
      "What is 10 multiply by 5 and then multiply by 2?\n",
      "==================================\u001b[1m Ai Message \u001b[0m==================================\n",
      "Tool Calls:\n",
      "  multiply (88ab91d4-84db-4357-bde7-d734c519ab92)\n",
      " Call ID: 88ab91d4-84db-4357-bde7-d734c519ab92\n",
      "  Args:\n",
      "    a: 10\n",
      "    b: 5\n",
      "  multiply (f5229fa8-bab8-4bbc-bb3c-d6b3ffe0b566)\n",
      " Call ID: f5229fa8-bab8-4bbc-bb3c-d6b3ffe0b566\n",
      "  Args:\n",
      "    a: result of previous operation\n",
      "    b: 2\n",
      "=================================\u001b[1m Tool Message \u001b[0m=================================\n",
      "Name: multiply\n",
      "\n",
      "50\n",
      "=================================\u001b[1m Tool Message \u001b[0m=================================\n",
      "Name: multiply\n",
      "\n",
      "Error: 1 validation error for multiply\n",
      "a\n",
      "  Input should be a valid integer, unable to parse string as an integer [type=int_parsing, input_value='result of previous operation', input_type=str]\n",
      "    For further information visit https://errors.pydantic.dev/2.11/v/int_parsing\n",
      " Please fix your mistakes.\n"
     ]
    }
   ],
   "source": [
    "response=graph.invoke({\"messages\":\"What is 10 multiply by 5 and then multiply by 2?\"})\n",
    "\n",
    "for m in response[\"messages\"]:\n",
    "    m.pretty_print()"
   ]
  },
  {
   "cell_type": "code",
   "execution_count": null,
   "id": "2b4d7393-a3a9-4871-a2ef-994935305bc3",
   "metadata": {},
   "outputs": [],
   "source": []
  }
 ],
 "metadata": {
  "kernelspec": {
   "display_name": "Python 3 (ipykernel)",
   "language": "python",
   "name": "python3"
  },
  "language_info": {
   "codemirror_mode": {
    "name": "ipython",
    "version": 3
   },
   "file_extension": ".py",
   "mimetype": "text/x-python",
   "name": "python",
   "nbconvert_exporter": "python",
   "pygments_lexer": "ipython3",
   "version": "3.12.3"
  }
 },
 "nbformat": 4,
 "nbformat_minor": 5
}
