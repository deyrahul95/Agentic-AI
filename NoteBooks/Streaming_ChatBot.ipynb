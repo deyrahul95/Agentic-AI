{
 "cells": [
  {
   "cell_type": "markdown",
   "id": "a6758bf4-d47e-448c-8394-1dc7bbe02e55",
   "metadata": {},
   "source": [
    "# Streaming"
   ]
  },
  {
   "cell_type": "code",
   "execution_count": 1,
   "id": "71cd3802-f5b7-472a-a9ff-13b1d3a44c51",
   "metadata": {},
   "outputs": [],
   "source": [
    "## Create LLM\n",
    "from langchain_ollama import ChatOllama\n",
    "\n",
    "llm = ChatOllama(model=\"deepseek-r1:1.5b\", temperature=0)"
   ]
  },
  {
   "cell_type": "code",
   "execution_count": 2,
   "id": "699bdc65-8ee4-4c62-afd3-d63bd03b03b4",
   "metadata": {},
   "outputs": [],
   "source": [
    "## Create memory for LLM\n",
    "from langgraph.checkpoint.memory import MemorySaver\n",
    "\n",
    "memory=MemorySaver()"
   ]
  },
  {
   "cell_type": "code",
   "execution_count": 3,
   "id": "c20a9bd4-a925-4889-88b0-07df7a347599",
   "metadata": {},
   "outputs": [],
   "source": [
    "## Create State\n",
    "from typing import Annotated\n",
    "from typing_extensions import TypedDict\n",
    "from langgraph.graph.message import add_messages\n",
    "\n",
    "class State(TypedDict):\n",
    "    messages:Annotated[list, add_messages]\n",
    "\n",
    "## Create Node\n",
    "def superbot(state:State):\n",
    "    return {\"messages\": [llm.invoke(state[\"messages\"])]}"
   ]
  },
  {
   "cell_type": "code",
   "execution_count": 4,
   "id": "6ebc4971-b63e-433e-ac71-33afa228db41",
   "metadata": {},
   "outputs": [
    {
     "data": {
      "image/png": "[encoded data removed]",
      "text/plain": [
       "<langgraph.graph.state.CompiledStateGraph object at 0x7eda9bd61cd0>"
      ]
     },
     "execution_count": 4,
     "metadata": {},
     "output_type": "execute_result"
    }
   ],
   "source": [
    "## Create the Graph\n",
    "from langgraph.graph import StateGraph, START, END\n",
    "\n",
    "graph_builder=StateGraph(State)\n",
    "\n",
    "## Adding Node\n",
    "graph_builder.add_node(\"superbot\",superbot)\n",
    "\n",
    "## Adding Edges\n",
    "graph_builder.add_edge(START, \"superbot\")\n",
    "graph_builder.add_edge(\"superbot\", END)\n",
    "\n",
    "## Compile the graph\n",
    "graph=graph_builder.compile(checkpointer=memory)\n",
    "graph"
   ]
  },
  {
   "cell_type": "code",
   "execution_count": null,
   "id": "e9a6b2a2-0eef-462b-9354-31d05360a18e",
   "metadata": {},
   "outputs": [],
   "source": [
    "## Create a Thread\n",
    "config={\"configurable\":{\"thread_id\":\"101\"}}\n",
    "\n",
    "## Invoke the graph \n",
    "for chunk in graph.stream({\"messages\":\"Hi, My name is Rahul and I love to play cricket\"},config=config,stream_mode=\"updates\"):\n",
    "    print(chunk)"
   ]
  },
  {
   "cell_type": "code",
   "execution_count": null,
   "id": "e6a9736d-77ff-4cce-8c7f-4fb0546301ef",
   "metadata": {},
   "outputs": [],
   "source": [
    "## Invoke the graph \n",
    "for chunk in graph.stream({\"messages\":\"I also love play batminton\"},config=config,stream_mode=\"values\"):\n",
    "    print(chunk)"
   ]
  },
  {
   "cell_type": "code",
   "execution_count": null,
   "id": "f81456df-7828-48b2-b098-628e75ebe1db",
   "metadata": {},
   "outputs": [],
   "source": [
    "## Create a Thread\n",
    "config={\"configurable\":{\"thread_id\":\"2649\"}}\n",
    "\n",
    "## Invoke the graph \n",
    "async for chunk in graph.astream_events({\"messages\":\"Hi, My name is Rahul and I love to play cricket\"},config=config,version=\"v2\"):\n",
    "    print(chunk)"
   ]
  },
  {
   "cell_type": "markdown",
   "id": "a66bf876-1dde-4a1f-9e70-ffaf02805715",
   "metadata": {},
   "source": [
    "## Human Feedback in the Loop"
   ]
  },
  {
   "cell_type": "code",
   "execution_count": null,
   "id": "9cd1f930-3059-46b4-b78d-8db94c553cf2",
   "metadata": {},
   "outputs": [],
   "source": [
    "from langchain_core.tools import tool\n",
    "from langgraph.graph import StateGraph, START, END\n",
    "from langgraph.prebuilt import ToolNode\n",
    "from langgraph.prebuilt import tools_condition\n",
    "\n",
    "from langgraph.types import Command, interrupt\n",
    "\n",
    "## Create graph builder\n",
    "graph_builder=StateGraph(State)\n",
    "\n",
    "## Human Assistance Tool\n",
    "@tool\n",
    "def human_assistance(query:str) -> str:\n",
    "    \"\"\"Request assistance from a human.\"\"\"\n",
    "    human_response = interrupt({ \"query\": query })\n",
    "    return human_response[\"data\"]\n",
    "\n",
    "\n",
    "## Multiply Tool\n",
    "@tool\n",
    "def multiply(a:int,b:int) -> int:\n",
    "    \"\"\"\n",
    "    Multiple two numbers\n",
    "    \n",
    "    a: first int\n",
    "    b: second int\n",
    "\n",
    "    Retruns:\n",
    "        int result of multiplication\n",
    "    \"\"\"\n",
    "    return a*b\n",
    "\n",
    "tools = [multiply, human_assistance]\n",
    "llm_with_tools = llm.bind_tools(tools)\n",
    "\n",
    "## Node definition\n",
    "def tool_calling_llm(state:State):\n",
    "    return {\"messages\":[llm_with_tools.invoke(state[\"messages\"])]}\n",
    "\n",
    "## Graph\n",
    "builder=StateGraph(State)\n",
    "builder.add_node(\"tool_calling_llm\", tool_calling_llm)\n",
    "builder.add_node(\"tools\",ToolNode(tools))\n",
    "\n",
    "## Add Edges\n",
    "builder.add_edge(START, \"tool_calling_llm\")\n",
    "builder.add_conditional_edges(\"tool_calling_llm\",tools_condition)\n",
    "builder.add_edge(\"tools\",END)\n",
    "\n",
    "\n",
    "    "
   ]
  }
 ],
 "metadata": {
  "kernelspec": {
   "display_name": "Python 3 (ipykernel)",
   "language": "python",
   "name": "python3"
  },
  "language_info": {
   "codemirror_mode": {
    "name": "ipython",
    "version": 3
   },
   "file_extension": ".py",
   "mimetype": "text/x-python",
   "name": "python",
   "nbconvert_exporter": "python",
   "pygments_lexer": "ipython3",
   "version": "3.12.3"
  }
 },
 "nbformat": 4,
 "nbformat_minor": 5
}
