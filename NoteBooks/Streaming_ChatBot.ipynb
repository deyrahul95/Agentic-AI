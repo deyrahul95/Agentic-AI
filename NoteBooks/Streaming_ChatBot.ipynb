{
 "cells": [
  {
   "cell_type": "markdown",
   "id": "a6758bf4-d47e-448c-8394-1dc7bbe02e55",
   "metadata": {},
   "source": [
    "# Streaming"
   ]
  },
  {
   "cell_type": "code",
   "execution_count": null,
   "id": "71cd3802-f5b7-472a-a9ff-13b1d3a44c51",
   "metadata": {},
   "outputs": [],
   "source": [
    "## Create LLM\n",
    "from langchain_ollama import ChatOllama\n",
    "\n",
    "llm = ChatOllama(model=\"deepseek-r1:1.5b\", temperature=0.6)"
   ]
  },
  {
   "cell_type": "code",
   "execution_count": null,
   "id": "699bdc65-8ee4-4c62-afd3-d63bd03b03b4",
   "metadata": {},
   "outputs": [],
   "source": [
    "## Create memory for LLM\n",
    "from langgraph.checkpoint.memory import MemorySaver\n",
    "\n",
    "memory=MemorySaver()"
   ]
  },
  {
   "cell_type": "code",
   "execution_count": null,
   "id": "c20a9bd4-a925-4889-88b0-07df7a347599",
   "metadata": {},
   "outputs": [],
   "source": [
    "## Create State\n",
    "from typing import Annotated\n",
    "from typing_extensions import TypedDict\n",
    "\n",
    "class State(TypedDict):\n",
    "    messages:Annotated\n",
    "\n",
    "## Create Node\n",
    "def superbot(state:State):\n",
    "    return {\"messages\": [llm.invoke(state[\"messages\"])]}"
   ]
  },
  {
   "cell_type": "code",
   "execution_count": null,
   "id": "6ebc4971-b63e-433e-ac71-33afa228db41",
   "metadata": {},
   "outputs": [],
   "source": [
    "## Create the Graph\n",
    "from langgraph.graph import StateGraph, START, END\n",
    "\n",
    "graph_builder=StateGraph(State)\n",
    "\n",
    "## Adding Node\n",
    "graph_builder.add_node(\"superbot\",superbot)\n",
    "\n",
    "## Adding Edges\n",
    "graph_builder.add_edge(START, \"superbot\")\n",
    "graph_builder.add_edge(\"superbot\", END)\n",
    "\n",
    "## Compile the graph\n",
    "graph=graph_builder.compile(checkpointer=memory)\n",
    "graph"
   ]
  },
  {
   "cell_type": "code",
   "execution_count": null,
   "id": "e9a6b2a2-0eef-462b-9354-31d05360a18e",
   "metadata": {},
   "outputs": [],
   "source": [
    "## Create a Thread\n",
    "config={\"configurable\":{\"thread_id\":\"101\"}}\n",
    "\n",
    "## Invoke the graph \n",
    "for chunk in graph.stream({\"messages\":\"Hi, My name is Rahul and I love to play cricket\"},config=config,stream_mode=\"updates\"):\n",
    "    print(chunk)"
   ]
  },
  {
   "cell_type": "code",
   "execution_count": null,
   "id": "e6a9736d-77ff-4cce-8c7f-4fb0546301ef",
   "metadata": {},
   "outputs": [],
   "source": [
    "## Invoke the graph \n",
    "for chunk in graph.stream({\"messages\":\"I also love play batminton\"},config=config,stream_mode=\"values\"):\n",
    "    print(chunk)"
   ]
  },
  {
   "cell_type": "code",
   "execution_count": null,
   "id": "f81456df-7828-48b2-b098-628e75ebe1db",
   "metadata": {},
   "outputs": [],
   "source": [
    "## Create a Thread\n",
    "config={\"configurable\":{\"thread_id\":\"2649\"}}\n",
    "\n",
    "## Invoke the graph \n",
    "async for chunk in graph.astream_events({\"messages\":\"Hi, My name is Rahul and I love to play cricket\"},config=config,version=\"v2\"):\n",
    "    print(chunk)"
   ]
  },
  {
   "cell_type": "code",
   "execution_count": null,
   "id": "5500f4f4-9790-4fd9-96ed-f66780671137",
   "metadata": {},
   "outputs": [],
   "source": []
  }
 ],
 "metadata": {
  "kernelspec": {
   "display_name": "Python 3 (ipykernel)",
   "language": "python",
   "name": "python3"
  },
  "language_info": {
   "codemirror_mode": {
    "name": "ipython",
    "version": 3
   },
   "file_extension": ".py",
   "mimetype": "text/x-python",
   "name": "python",
   "nbconvert_exporter": "python",
   "pygments_lexer": "ipython3",
   "version": "3.12.3"
  }
 },
 "nbformat": 4,
 "nbformat_minor": 5
}
