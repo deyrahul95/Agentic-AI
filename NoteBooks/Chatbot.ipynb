{
 "cells": [
  {
   "cell_type": "markdown",
   "id": "e20fa9a9-e6d5-4e41-8110-843a60b5d975",
   "metadata": {},
   "source": [
    "# Package Instalation"
   ]
  },
  {
   "cell_type": "code",
   "execution_count": 1,
   "id": "493c319a-ff8d-4a5c-8a0f-14c2020a5169",
   "metadata": {
    "scrolled": true
   },
   "outputs": [
    {
     "name": "stdout",
     "output_type": "stream",
     "text": [
      "\u001b[2mResolved \u001b[1m135 packages\u001b[0m \u001b[2min 1ms\u001b[0m\u001b[0m\n",
      "\u001b[2mAudited \u001b[1m130 packages\u001b[0m \u001b[2min 0.09ms\u001b[0m\u001b[0m\n"
     ]
    }
   ],
   "source": [
    "!uv add langgraph langchain langsmith python-dotenv langchain_ollama langchain_community"
   ]
  },
  {
   "cell_type": "code",
   "execution_count": 2,
   "id": "f507e57d-0a4e-48ab-bdb2-29b280bcf07a",
   "metadata": {},
   "outputs": [],
   "source": [
    "from typing import Annotated\n",
    "from typing_extensions import TypedDict\n",
    "from langgraph.graph import StateGraph, START, END\n",
    "from langgraph.graph.message import add_messages"
   ]
  },
  {
   "cell_type": "code",
   "execution_count": 3,
   "id": "03123910-6479-4f6e-9158-5c517a423900",
   "metadata": {},
   "outputs": [],
   "source": [
    "class State(TypedDict):\n",
    "    messages:Annotated[list, add_messages]"
   ]
  },
  {
   "cell_type": "markdown",
   "id": "09eea014-1374-4821-8629-d81943718ad1",
   "metadata": {},
   "source": [
    "### Integration with LLM using OLLAMA"
   ]
  },
  {
   "cell_type": "code",
   "execution_count": 4,
   "id": "7c8c4294-37df-42ec-81e9-5773f3a9520d",
   "metadata": {},
   "outputs": [
    {
     "data": {
      "text/plain": [
       "ChatOllama(model='llama3.2:latest', temperature=0.0)"
      ]
     },
     "execution_count": 4,
     "metadata": {},
     "output_type": "execute_result"
    }
   ],
   "source": [
    "from langchain_ollama import ChatOllama\n",
    "\n",
    "llm = ChatOllama(model=\"llama3.2:latest\", temperature=0)\n",
    "llm"
   ]
  },
  {
   "cell_type": "code",
   "execution_count": 5,
   "id": "ab161919-2901-4cb4-9cb7-a172d37a2dc8",
   "metadata": {},
   "outputs": [],
   "source": [
    "## Node functionality\n",
    "def chatbot(state:State):\n",
    "    return {\"messages\": [llm.invoke(state[\"messages\"])]}"
   ]
  },
  {
   "cell_type": "code",
   "execution_count": 6,
   "id": "e34dda43-9104-4948-abf1-ac8ff997d0c4",
   "metadata": {},
   "outputs": [],
   "source": [
    "graph_builder=StateGraph(State)\n",
    "\n",
    "## Adding Node\n",
    "graph_builder.add_node(\"llmchatbot\", chatbot)\n",
    "\n",
    "## Adding Edges\n",
    "graph_builder.add_edge(START, \"llmchatbot\")\n",
    "graph_builder.add_edge(\"llmchatbot\", END)\n",
    "\n",
    "## Compile the graph\n",
    "graph=graph_builder.compile()"
   ]
  },
  {
   "cell_type": "code",
   "execution_count": 7,
   "id": "7b6495bf-e124-4e26-9b12-a7308dcbed02",
   "metadata": {
    "scrolled": true
   },
   "outputs": [
    {
     "data": {
      "image/png": "[encoded data removed]",
      "text/plain": [
       "<IPython.core.display.Image object>"
      ]
     },
     "metadata": {},
     "output_type": "display_data"
    }
   ],
   "source": [
    "## Visualize the graph\n",
    "from IPython.display import Image,display\n",
    "\n",
    "try:\n",
    "    display(Image(graph.get_graph().draw_mermaid_png()))\n",
    "except Exception:\n",
    "    pass"
   ]
  },
  {
   "cell_type": "markdown",
   "id": "4dde2293-7b47-4dec-b49d-37ce13c2a40b",
   "metadata": {},
   "source": [
    "#### GET response from LLM"
   ]
  },
  {
   "cell_type": "code",
   "execution_count": 8,
   "id": "5816c572-e109-463f-96d4-744dc9c86f83",
   "metadata": {},
   "outputs": [
    {
     "name": "stdout",
     "output_type": "stream",
     "text": [
      "================================\u001b[1m Human Message \u001b[0m=================================\n",
      "\n",
      "Hello\n",
      "==================================\u001b[1m Ai Message \u001b[0m==================================\n",
      "\n",
      "How can I assist you today?\n"
     ]
    }
   ],
   "source": [
    "response=graph.invoke({\"messages\":\"Hello\"})\n",
    "\n",
    "for m in response[\"messages\"]:\n",
    "    m.pretty_print()"
   ]
  },
  {
   "cell_type": "code",
   "execution_count": 9,
   "id": "35a3e780-8a6a-484e-820a-f0bedef68636",
   "metadata": {},
   "outputs": [
    {
     "data": {
      "text/plain": [
       "'How can I assist you today?'"
      ]
     },
     "execution_count": 9,
     "metadata": {},
     "output_type": "execute_result"
    }
   ],
   "source": [
    "response[\"messages\"][-1].content"
   ]
  },
  {
   "cell_type": "markdown",
   "id": "e6737b64-9fc1-4320-a237-5e0784c93d39",
   "metadata": {},
   "source": [
    "#### Stream LLM Response"
   ]
  },
  {
   "cell_type": "code",
   "execution_count": 10,
   "id": "bb0f8672-1101-4b63-b8d9-0ef0fdf2b168",
   "metadata": {},
   "outputs": [
    {
     "name": "stdout",
     "output_type": "stream",
     "text": [
      "{'llmchatbot': {'messages': [AIMessage(content=\"I'm just a language model, so I don't have emotions or feelings like humans do. However, I'm functioning properly and ready to assist you with any questions or tasks you may have! How can I help you today?\", additional_kwargs={}, response_metadata={'model': 'llama3.2:latest', 'created_at': '2025-06-23T12:48:36.749058867Z', 'done': True, 'done_reason': 'stop', 'total_duration': 9689317917, 'load_duration': 41476587, 'prompt_eval_count': 31, 'prompt_eval_duration': 1073339211, 'eval_count': 47, 'eval_duration': 8573395380, 'model_name': 'llama3.2:latest'}, id='run--9ef7f9d3-913e-456d-af6c-aeb17df6f4be-0', usage_metadata={'input_tokens': 31, 'output_tokens': 47, 'total_tokens': 78})]}}\n"
     ]
    }
   ],
   "source": [
    "for event in graph.stream({\"messages\":\"Hi, How are you?\"}):\n",
    "    print(event)"
   ]
  }
 ],
 "metadata": {
  "kernelspec": {
   "display_name": "Python 3 (ipykernel)",
   "language": "python",
   "name": "python3"
  },
  "language_info": {
   "codemirror_mode": {
    "name": "ipython",
    "version": 3
   },
   "file_extension": ".py",
   "mimetype": "text/x-python",
   "name": "python",
   "nbconvert_exporter": "python",
   "pygments_lexer": "ipython3",
   "version": "3.12.3"
  }
 },
 "nbformat": 4,
 "nbformat_minor": 5
}
