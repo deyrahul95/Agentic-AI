{
 "cells": [
  {
   "cell_type": "markdown",
   "id": "e94f3b74-cdf4-4f45-89dc-a2f8ced14f5d",
   "metadata": {},
   "source": [
    "# Installation"
   ]
  },
  {
   "cell_type": "code",
   "execution_count": 1,
   "id": "90cd56c3-0cbe-4a46-b724-9b396965658b",
   "metadata": {},
   "outputs": [
    {
     "name": "stdout",
     "output_type": "stream",
     "text": [
      "\u001b[2mResolved \u001b[1m138 packages\u001b[0m \u001b[2min 7ms\u001b[0m\u001b[0m\n",
      "\u001b[2mAudited \u001b[1m133 packages\u001b[0m \u001b[2min 0.30ms\u001b[0m\u001b[0m\n"
     ]
    }
   ],
   "source": [
    "!uv add langgraph langchain langsmith python-dotenv langchain_ollama langchain_community langchain_tavily"
   ]
  },
  {
   "cell_type": "code",
   "execution_count": 2,
   "id": "4c6d256b-d84b-4f0a-9784-a19eee6104ac",
   "metadata": {},
   "outputs": [
    {
     "data": {
      "text/plain": [
       "True"
      ]
     },
     "execution_count": 2,
     "metadata": {},
     "output_type": "execute_result"
    }
   ],
   "source": [
    "## load env variables\n",
    "from dotenv import load_dotenv\n",
    "\n",
    "load_dotenv()"
   ]
  },
  {
   "cell_type": "markdown",
   "id": "d9bd4fa0-fdd0-4d12-b6dc-dc882151b37f",
   "metadata": {},
   "source": [
    "### Tavily Tool"
   ]
  },
  {
   "cell_type": "code",
   "execution_count": 3,
   "id": "5fda9bc9-8a5d-483b-8dbf-fd846a74f68a",
   "metadata": {},
   "outputs": [],
   "source": [
    "## Create tavily tool\n",
    "from langchain_tavily import TavilySearch\n",
    "\n",
    "search_tool=TavilySearch(max_results=2)"
   ]
  },
  {
   "cell_type": "markdown",
   "id": "5eedd6c6-6596-4ff9-b84d-f9cbca5a4ae1",
   "metadata": {},
   "source": [
    "### Custom Multiply Tool"
   ]
  },
  {
   "cell_type": "code",
   "execution_count": 4,
   "id": "de0abfce-fba8-44fd-b010-1463bad6d8d1",
   "metadata": {},
   "outputs": [],
   "source": [
    "## custom function\n",
    "def multiply(a:int,b:int)->int:\n",
    "    \"\"\"Multiply a and b\n",
    "\n",
    "    Args:\n",
    "        a (int): first int if it is in string convert to int\n",
    "        b (int): second int if it is in string convert to int\n",
    "\n",
    "    Returns:\n",
    "        int: result of the multiplication\n",
    "    \"\"\"\n",
    "    return a * b"
   ]
  },
  {
   "cell_type": "markdown",
   "id": "1f551488-1980-4d4f-b50e-11c38138cdc6",
   "metadata": {},
   "source": [
    "### Create LLM using Ollama"
   ]
  },
  {
   "cell_type": "code",
   "execution_count": 5,
   "id": "24bd561f-2ea2-4a0b-9ed4-7777f68ace0a",
   "metadata": {},
   "outputs": [],
   "source": [
    "from langchain_ollama import ChatOllama\n",
    "\n",
    "llm = ChatOllama(model=\"llama3.2\", temperature=0)"
   ]
  },
  {
   "cell_type": "code",
   "execution_count": 6,
   "id": "fcaedd86-084d-4f9b-95b5-c864b8cca56c",
   "metadata": {
    "scrolled": true
   },
   "outputs": [],
   "source": [
    "## add tools in llm \n",
    "tools=[search_tool, multiply]\n",
    "llm_with_tools=llm.bind_tools(tools)"
   ]
  },
  {
   "cell_type": "markdown",
   "id": "1e32cae3-d3f8-4004-8196-dd91b219908c",
   "metadata": {},
   "source": [
    "### Creating the Chatbot"
   ]
  },
  {
   "cell_type": "code",
   "execution_count": 7,
   "id": "9199a67c-1d37-4a3b-93a7-791e7c5530db",
   "metadata": {},
   "outputs": [],
   "source": [
    "from typing import Annotated\n",
    "from typing_extensions import TypedDict\n",
    "from langgraph.graph.message import add_messages\n",
    "\n",
    "## State \n",
    "class State(TypedDict):\n",
    "    messages:Annotated[list, add_messages]\n",
    "\n",
    "## Node functionality\n",
    "def chatbot(state:State):\n",
    "    return {\"messages\": [llm.invoke(state[\"messages\"])]}"
   ]
  },
  {
   "cell_type": "code",
   "execution_count": 8,
   "id": "b6eb5dca-1d58-4d3e-857a-183786ae8a4c",
   "metadata": {},
   "outputs": [],
   "source": [
    "from langgraph.graph import StateGraph, START, END\n",
    "from langgraph.prebuilt import ToolNode\n",
    "from langgraph.prebuilt import tools_condition\n",
    "\n",
    "## Node definition\n",
    "def tool_calling_llm(state:State):\n",
    "    return {\"messages\":[llm_with_tools.invoke(state[\"messages\"])]}\n",
    "\n",
    "## Graph\n",
    "builder=StateGraph(State)\n",
    "builder.add_node(\"tool_calling_llm\", tool_calling_llm)\n",
    "builder.add_node(\"tools\",ToolNode(tools))\n",
    "\n",
    "## Add Edges\n",
    "builder.add_edge(START, \"tool_calling_llm\")\n",
    "builder.add_conditional_edges(\"tool_calling_llm\",tools_condition)\n",
    "builder.add_edge(\"tools\",END)\n",
    "\n",
    "## Compile the graph\n",
    "graph = builder.compile()"
   ]
  },
  {
   "cell_type": "code",
   "execution_count": 9,
   "id": "39055f91-d4f4-4db5-b377-053f6c8db8b7",
   "metadata": {},
   "outputs": [
    {
     "data": {
      "image/png": "[encoded data removed]",
      "text/plain": [
       "<langgraph.graph.state.CompiledStateGraph object at 0x7903180d30b0>"
      ]
     },
     "execution_count": 9,
     "metadata": {},
     "output_type": "execute_result"
    }
   ],
   "source": [
    "graph"
   ]
  },
  {
   "cell_type": "markdown",
   "id": "b24132a6-d9a8-48e8-a516-2fb2f59454fc",
   "metadata": {},
   "source": [
    "### Using this Graph"
   ]
  },
  {
   "cell_type": "code",
   "execution_count": null,
   "id": "3ba854e1-f379-42dc-933e-6e00c02cb099",
   "metadata": {},
   "outputs": [],
   "source": [
    "response=graph.invoke({\"messages\":\"What is the recent AI news for today?\"})\n",
    "\n",
    "for m in response[\"messages\"]:\n",
    "    m.pretty_print()"
   ]
  },
  {
   "cell_type": "code",
   "execution_count": 10,
   "id": "f38f3272-4601-4a39-b183-07dbe48156b7",
   "metadata": {},
   "outputs": [
    {
     "name": "stdout",
     "output_type": "stream",
     "text": [
      "================================\u001b[1m Human Message \u001b[0m=================================\n",
      "\n",
      "What is 25 multiply by 5?\n",
      "==================================\u001b[1m Ai Message \u001b[0m==================================\n",
      "Tool Calls:\n",
      "  multiply (15f95f44-3f67-4068-9c85-81e9507aad17)\n",
      " Call ID: 15f95f44-3f67-4068-9c85-81e9507aad17\n",
      "  Args:\n",
      "    a: 25\n",
      "    b: 5\n",
      "=================================\u001b[1m Tool Message \u001b[0m=================================\n",
      "Name: multiply\n",
      "\n",
      "125\n"
     ]
    }
   ],
   "source": [
    "response=graph.invoke({\"messages\":\"What is 25 multiply by 5?\"})\n",
    "\n",
    "for m in response[\"messages\"]:\n",
    "    m.pretty_print()"
   ]
  },
  {
   "cell_type": "code",
   "execution_count": null,
   "id": "836cfdac-497e-45d3-86d8-748a906f8cbb",
   "metadata": {},
   "outputs": [],
   "source": [
    "response=graph.invoke({\"messages\":\"What is 10 multiply by 5 and then multiply by 2?\"})\n",
    "\n",
    "for m in response[\"messages\"]:\n",
    "    m.pretty_print()"
   ]
  },
  {
   "cell_type": "markdown",
   "id": "e7f08520-cb9b-4fb1-bf8c-c6567c9bd794",
   "metadata": {},
   "source": [
    "### ReAct Agent "
   ]
  },
  {
   "cell_type": "code",
   "execution_count": 11,
   "id": "fcd3dce4-8555-4e4c-9a93-3fc50ced413d",
   "metadata": {},
   "outputs": [],
   "source": [
    "from langgraph.graph import StateGraph, START, END\n",
    "from langgraph.prebuilt import ToolNode\n",
    "from langgraph.prebuilt import tools_condition\n",
    "\n",
    "## Node definition\n",
    "def tool_calling_llm(state:State):\n",
    "    return {\"messages\":[llm_with_tools.invoke(state[\"messages\"])]}\n",
    "\n",
    "## Graph\n",
    "builder=StateGraph(State)\n",
    "builder.add_node(\"tool_calling_llm\", tool_calling_llm)\n",
    "builder.add_node(\"tools\",ToolNode(tools))\n",
    "\n",
    "## Add Edges\n",
    "builder.add_edge(START, \"tool_calling_llm\")\n",
    "builder.add_conditional_edges(\"tool_calling_llm\",tools_condition)\n",
    "builder.add_edge(\"tools\", \"tool_calling_llm\")\n",
    "\n",
    "## Compile the graph\n",
    "graph = builder.compile()"
   ]
  },
  {
   "cell_type": "code",
   "execution_count": 12,
   "id": "36a07ed3-c3d0-4c80-a398-8981a42aaff0",
   "metadata": {},
   "outputs": [
    {
     "data": {
      "image/png": "[encoded data removed]",
      "text/plain": [
       "<langgraph.graph.state.CompiledStateGraph object at 0x7902fcd6f2c0>"
      ]
     },
     "execution_count": 12,
     "metadata": {},
     "output_type": "execute_result"
    }
   ],
   "source": [
    "graph"
   ]
  },
  {
   "cell_type": "code",
   "execution_count": 13,
   "id": "47b1922c-7c46-4fad-85e1-4cb5a8661c14",
   "metadata": {},
   "outputs": [
    {
     "name": "stdout",
     "output_type": "stream",
     "text": [
      "================================\u001b[1m Human Message \u001b[0m=================================\n",
      "\n",
      "Give me the recent AI news for today and then multiply 10 by 5?\n",
      "==================================\u001b[1m Ai Message \u001b[0m==================================\n",
      "Tool Calls:\n",
      "  tavily_search (c529f61b-2224-44b6-b758-a67e86588328)\n",
      " Call ID: c529f61b-2224-44b6-b758-a67e86588328\n",
      "  Args:\n",
      "    query: recent AI news today\n",
      "    time_range: day\n",
      "    topic: general\n",
      "  multiply (c0e00d10-6b3f-4e2c-b601-0b7db670404b)\n",
      " Call ID: c0e00d10-6b3f-4e2c-b601-0b7db670404b\n",
      "  Args:\n",
      "    a: 10\n",
      "    b: 5\n",
      "=================================\u001b[1m Tool Message \u001b[0m=================================\n",
      "Name: tavily_search\n",
      "\n",
      "{\"query\": \"recent AI news today\", \"follow_up_questions\": null, \"answer\": null, \"images\": [], \"results\": [{\"title\": \"Microsoft and IBM Just Hit Fresh Highs. Both Are Still Set for AI ...\", \"url\": \"https://www.investopedia.com/microsoft-and-ibm-just-hit-fresh-highs-both-are-still-set-for-ai-driven-gains-analysts-say-11759642\", \"content\": \"With its recent gains, IBM has surpassed the mean of targets compiled by Visible Alpha at $264. IBM launched new software last week it says could help clients keep their AI agent systems\", \"score\": 0.6021791, \"raw_content\": null}, {\"title\": \"Is Trump's budget cut for STEM linked to growing AI ... - India Today\", \"url\": \"https://www.indiatoday.in/education-today/news/story/trumps-budget-cut-stem-linked-ai-influence-coding-2745033-2025-06-23\", \"content\": \"The recent announcement by the Trump administration has sparked a debate over whether STEM should remain a priority in the education system. More companies are also acknowledging the shift-a recent report highlights that, in the US alone, 25% of the code written at tech giants like Microsoft is now generated by AI.\", \"score\": 0.5611433, \"raw_content\": null}], \"response_time\": 1.62}\n",
      "=================================\u001b[1m Tool Message \u001b[0m=================================\n",
      "Name: multiply\n",
      "\n",
      "50\n",
      "==================================\u001b[1m Ai Message \u001b[0m==================================\n",
      "\n",
      "Here's the answer to your original question:\n",
      "\n",
      "The recent AI news for today includes:\n",
      "\n",
      "* Microsoft and IBM hitting fresh highs, with analysts predicting AI-driven gains.\n",
      "* A debate over whether STEM should remain a priority in the education system, sparked by the Trump administration's budget cut.\n",
      "\n",
      "And here's the result of multiplying 10 by 5:\n",
      "\n",
      "50\n"
     ]
    }
   ],
   "source": [
    "response=graph.invoke({\"messages\":\"Give me the recent AI news for today and then multiply 10 by 5?\"})\n",
    "\n",
    "for m in response[\"messages\"]:\n",
    "    m.pretty_print()"
   ]
  },
  {
   "cell_type": "code",
   "execution_count": 14,
   "id": "8401d3fc-1842-47af-8d2c-e66b52f990c8",
   "metadata": {},
   "outputs": [
    {
     "name": "stdout",
     "output_type": "stream",
     "text": [
      "================================\u001b[1m Human Message \u001b[0m=================================\n",
      "\n",
      "What is 10 multiply by 5 and then multiply by 2?\n",
      "==================================\u001b[1m Ai Message \u001b[0m==================================\n",
      "Tool Calls:\n",
      "  multiply (5578c3d4-e60d-46fd-8a35-6cd9efb5337c)\n",
      " Call ID: 5578c3d4-e60d-46fd-8a35-6cd9efb5337c\n",
      "  Args:\n",
      "    a: 10\n",
      "    b: 5\n",
      "  multiply (db19f49d-34d1-480b-adc1-6f6685b7d0d5)\n",
      " Call ID: db19f49d-34d1-480b-adc1-6f6685b7d0d5\n",
      "  Args:\n",
      "    a: result of previous operation\n",
      "    b: 2\n",
      "=================================\u001b[1m Tool Message \u001b[0m=================================\n",
      "Name: multiply\n",
      "\n",
      "50\n",
      "=================================\u001b[1m Tool Message \u001b[0m=================================\n",
      "Name: multiply\n",
      "\n",
      "Error: 1 validation error for multiply\n",
      "a\n",
      "  Input should be a valid integer, unable to parse string as an integer [type=int_parsing, input_value='result of previous operation', input_type=str]\n",
      "    For further information visit https://errors.pydantic.dev/2.11/v/int_parsing\n",
      " Please fix your mistakes.\n",
      "==================================\u001b[1m Ai Message \u001b[0m==================================\n",
      "\n",
      "To calculate the result, I'll first multiply 10 by 5:\n",
      "\n",
      "10 × 5 = 50\n",
      "\n",
      "Then, I'll multiply 50 by 2:\n",
      "\n",
      "50 × 2 = 100\n",
      "\n",
      "So, the final answer is: 100\n"
     ]
    }
   ],
   "source": [
    "response=graph.invoke({\"messages\":\"What is 10 multiply by 5 and then multiply by 2?\"})\n",
    "\n",
    "for m in response[\"messages\"]:\n",
    "    m.pretty_print()"
   ]
  },
  {
   "cell_type": "code",
   "execution_count": null,
   "id": "45de4677-cf88-4a31-80ba-2830811eb0eb",
   "metadata": {},
   "outputs": [],
   "source": []
  }
 ],
 "metadata": {
  "kernelspec": {
   "display_name": "Python 3 (ipykernel)",
   "language": "python",
   "name": "python3"
  },
  "language_info": {
   "codemirror_mode": {
    "name": "ipython",
    "version": 3
   },
   "file_extension": ".py",
   "mimetype": "text/x-python",
   "name": "python",
   "nbconvert_exporter": "python",
   "pygments_lexer": "ipython3",
   "version": "3.12.3"
  }
 },
 "nbformat": 4,
 "nbformat_minor": 5
}
